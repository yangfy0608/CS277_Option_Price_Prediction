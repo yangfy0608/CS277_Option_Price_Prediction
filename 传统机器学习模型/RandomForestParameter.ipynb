{
 "cells": [
  {
   "cell_type": "markdown",
   "metadata": {},
   "source": [
    "# 随机森林调参"
   ]
  },
  {
   "cell_type": "code",
   "execution_count": 21,
   "metadata": {},
   "outputs": [],
   "source": [
    "import pandas as pd\n",
    "import numpy as np\n",
    "\n",
    "from sklearn.model_selection import KFold\n",
    "from sklearn.model_selection import train_test_split\n",
    "from sklearn.model_selection import cross_val_score\n",
    "from sklearn.model_selection import GridSearchCV\n",
    "from sklearn.ensemble import RandomForestRegressor\n",
    "\n",
    "from util import Compare, getError, getdata\n"
   ]
  },
  {
   "cell_type": "code",
   "execution_count": 22,
   "metadata": {},
   "outputs": [
    {
     "data": {
      "text/html": [
       "<div>\n",
       "<style scoped>\n",
       "    .dataframe tbody tr th:only-of-type {\n",
       "        vertical-align: middle;\n",
       "    }\n",
       "\n",
       "    .dataframe tbody tr th {\n",
       "        vertical-align: top;\n",
       "    }\n",
       "\n",
       "    .dataframe thead th {\n",
       "        text-align: right;\n",
       "    }\n",
       "</style>\n",
       "<table border=\"1\" class=\"dataframe\">\n",
       "  <thead>\n",
       "    <tr style=\"text-align: right;\">\n",
       "      <th></th>\n",
       "      <th>S</th>\n",
       "      <th>T</th>\n",
       "      <th>K</th>\n",
       "      <th>Value</th>\n",
       "      <th>tau</th>\n",
       "      <th>rate</th>\n",
       "    </tr>\n",
       "  </thead>\n",
       "  <tbody>\n",
       "    <tr>\n",
       "      <th>0</th>\n",
       "      <td>2.65</td>\n",
       "      <td>0.24384</td>\n",
       "      <td>2.50</td>\n",
       "      <td>0.2092</td>\n",
       "      <td>0.0191</td>\n",
       "      <td>1.06000</td>\n",
       "    </tr>\n",
       "    <tr>\n",
       "      <th>1</th>\n",
       "      <td>2.65</td>\n",
       "      <td>0.24384</td>\n",
       "      <td>2.55</td>\n",
       "      <td>0.1734</td>\n",
       "      <td>0.0191</td>\n",
       "      <td>1.03922</td>\n",
       "    </tr>\n",
       "    <tr>\n",
       "      <th>2</th>\n",
       "      <td>2.65</td>\n",
       "      <td>0.24384</td>\n",
       "      <td>2.60</td>\n",
       "      <td>0.1400</td>\n",
       "      <td>0.0191</td>\n",
       "      <td>1.01923</td>\n",
       "    </tr>\n",
       "    <tr>\n",
       "      <th>3</th>\n",
       "      <td>2.65</td>\n",
       "      <td>0.24384</td>\n",
       "      <td>2.65</td>\n",
       "      <td>0.1111</td>\n",
       "      <td>0.0191</td>\n",
       "      <td>1.00000</td>\n",
       "    </tr>\n",
       "    <tr>\n",
       "      <th>4</th>\n",
       "      <td>2.65</td>\n",
       "      <td>0.24384</td>\n",
       "      <td>2.70</td>\n",
       "      <td>0.0882</td>\n",
       "      <td>0.0191</td>\n",
       "      <td>0.98148</td>\n",
       "    </tr>\n",
       "    <tr>\n",
       "      <th>...</th>\n",
       "      <td>...</td>\n",
       "      <td>...</td>\n",
       "      <td>...</td>\n",
       "      <td>...</td>\n",
       "      <td>...</td>\n",
       "      <td>...</td>\n",
       "    </tr>\n",
       "    <tr>\n",
       "      <th>31729</th>\n",
       "      <td>3.40</td>\n",
       "      <td>0.15616</td>\n",
       "      <td>3.40</td>\n",
       "      <td>0.1322</td>\n",
       "      <td>0.0250</td>\n",
       "      <td>1.00000</td>\n",
       "    </tr>\n",
       "    <tr>\n",
       "      <th>31730</th>\n",
       "      <td>3.40</td>\n",
       "      <td>0.15616</td>\n",
       "      <td>3.50</td>\n",
       "      <td>0.0924</td>\n",
       "      <td>0.0250</td>\n",
       "      <td>0.97143</td>\n",
       "    </tr>\n",
       "    <tr>\n",
       "      <th>31731</th>\n",
       "      <td>3.40</td>\n",
       "      <td>0.15616</td>\n",
       "      <td>3.60</td>\n",
       "      <td>0.0640</td>\n",
       "      <td>0.0250</td>\n",
       "      <td>0.94444</td>\n",
       "    </tr>\n",
       "    <tr>\n",
       "      <th>31732</th>\n",
       "      <td>3.40</td>\n",
       "      <td>0.15616</td>\n",
       "      <td>3.70</td>\n",
       "      <td>0.0415</td>\n",
       "      <td>0.0250</td>\n",
       "      <td>0.91892</td>\n",
       "    </tr>\n",
       "    <tr>\n",
       "      <th>31733</th>\n",
       "      <td>3.40</td>\n",
       "      <td>0.15616</td>\n",
       "      <td>3.80</td>\n",
       "      <td>0.0284</td>\n",
       "      <td>0.0250</td>\n",
       "      <td>0.89474</td>\n",
       "    </tr>\n",
       "  </tbody>\n",
       "</table>\n",
       "<p>25947 rows × 6 columns</p>\n",
       "</div>"
      ],
      "text/plain": [
       "          S        T     K   Value     tau     rate\n",
       "0      2.65  0.24384  2.50  0.2092  0.0191  1.06000\n",
       "1      2.65  0.24384  2.55  0.1734  0.0191  1.03922\n",
       "2      2.65  0.24384  2.60  0.1400  0.0191  1.01923\n",
       "3      2.65  0.24384  2.65  0.1111  0.0191  1.00000\n",
       "4      2.65  0.24384  2.70  0.0882  0.0191  0.98148\n",
       "...     ...      ...   ...     ...     ...      ...\n",
       "31729  3.40  0.15616  3.40  0.1322  0.0250  1.00000\n",
       "31730  3.40  0.15616  3.50  0.0924  0.0250  0.97143\n",
       "31731  3.40  0.15616  3.60  0.0640  0.0250  0.94444\n",
       "31732  3.40  0.15616  3.70  0.0415  0.0250  0.91892\n",
       "31733  3.40  0.15616  3.80  0.0284  0.0250  0.89474\n",
       "\n",
       "[25947 rows x 6 columns]"
      ]
     },
     "execution_count": 22,
     "metadata": {},
     "output_type": "execute_result"
    }
   ],
   "source": [
    "df1 = getdata(\"./data/UseData.csv\")\n",
    "df1"
   ]
  },
  {
   "cell_type": "markdown",
   "metadata": {},
   "source": [
    "### 模型"
   ]
  },
  {
   "cell_type": "code",
   "execution_count": 23,
   "metadata": {},
   "outputs": [
    {
     "name": "stdout",
     "output_type": "stream",
     "text": [
      "model: 0.9707722563817738\n",
      "cv: 0.9672036477088877\n"
     ]
    }
   ],
   "source": [
    "X = df1.drop([\"Day\",\"Value\"], axis=1)\n",
    "Y = df1.Value\n",
    "X_train, X_test, Y_train, Y_test = train_test_split(X, Y, test_size=0.2)\n",
    "model = RandomForestRegressor(\n",
    "    n_estimators=100,\n",
    "    random_state=42\n",
    ")\n",
    "model.fit(X_train, Y_train)\n",
    "score = model.score(X_test, Y_test)\n",
    "cross_s = cross_val_score(model, X_test, Y_test, cv=5).mean()\n",
    "print(\"model:\", score)\n",
    "print(\"cv:\", cross_s)\n"
   ]
  },
  {
   "cell_type": "markdown",
   "metadata": {},
   "source": [
    "### n_estimators"
   ]
  },
  {
   "cell_type": "code",
   "execution_count": 27,
   "metadata": {},
   "outputs": [
    {
     "data": {
      "text/plain": [
       "190"
      ]
     },
     "execution_count": 27,
     "metadata": {},
     "output_type": "execute_result"
    }
   ],
   "source": [
    "max = -999999\n",
    "nes = 0\n",
    "for i in range(10, 200, 10):\n",
    "    model = RandomForestRegressor(\n",
    "        n_estimators=i,\n",
    "        random_state=42\n",
    "    )\n",
    "    model.fit(X_train,Y_train)\n",
    "    score = model.score(X_test, Y_test)\n",
    "    if score > max:\n",
    "        max = score\n",
    "        nes = i\n",
    "nes\n",
    "\n"
   ]
  },
  {
   "cell_type": "markdown",
   "metadata": {},
   "source": [
    "### max_depth"
   ]
  },
  {
   "cell_type": "code",
   "execution_count": 30,
   "metadata": {},
   "outputs": [
    {
     "data": {
      "text/plain": [
       "12"
      ]
     },
     "execution_count": 30,
     "metadata": {},
     "output_type": "execute_result"
    }
   ],
   "source": [
    "max = -999999\n",
    "nes = 0\n",
    "for i in range(1, 20, 1):\n",
    "    model = RandomForestRegressor(\n",
    "        n_estimators=190,\n",
    "        max_depth=i,\n",
    "        random_state=42\n",
    "    )\n",
    "    model.fit(X_train,Y_train)\n",
    "    score = model.score(X_test, Y_test)\n",
    "    if score > max:\n",
    "        max = score\n",
    "        nes = i\n",
    "nes"
   ]
  },
  {
   "cell_type": "markdown",
   "metadata": {},
   "source": [
    "### max_features"
   ]
  },
  {
   "cell_type": "code",
   "execution_count": 36,
   "metadata": {},
   "outputs": [
    {
     "data": {
      "text/plain": [
       "'log2'"
      ]
     },
     "execution_count": 36,
     "metadata": {},
     "output_type": "execute_result"
    }
   ],
   "source": [
    "max = -999999\n",
    "nes = 0\n",
    "for i in ['log2', 'sqrt', None]:\n",
    "    model = RandomForestRegressor(\n",
    "        n_estimators=190,\n",
    "        max_depth=12,\n",
    "        max_features=i,\n",
    "        random_state=42\n",
    "    )\n",
    "    model.fit(X_train,Y_train)\n",
    "    score = model.score(X_test, Y_test)\n",
    "    if score > max:\n",
    "        max = score\n",
    "        nes = i\n",
    "nes"
   ]
  },
  {
   "cell_type": "markdown",
   "metadata": {},
   "source": [
    "### min_sample_leaf"
   ]
  },
  {
   "cell_type": "code",
   "execution_count": 37,
   "metadata": {},
   "outputs": [
    {
     "data": {
      "text/plain": [
       "1"
      ]
     },
     "execution_count": 37,
     "metadata": {},
     "output_type": "execute_result"
    }
   ],
   "source": [
    "max = -999999\n",
    "nes = 0\n",
    "for i in [1,2,5,10]:\n",
    "    model = RandomForestRegressor(\n",
    "        n_estimators=190,\n",
    "        max_depth=12,\n",
    "        max_features='log2',\n",
    "        random_state=42,\n",
    "        min_samples_leaf=i\n",
    "    )\n",
    "    model.fit(X_train,Y_train)\n",
    "    score = model.score(X_test, Y_test)\n",
    "    if score > max:\n",
    "        max = score\n",
    "        nes = i\n",
    "nes"
   ]
  }
 ],
 "metadata": {
  "kernelspec": {
   "display_name": "Python 3.8.12 ('py3.8')",
   "language": "python",
   "name": "python3"
  },
  "language_info": {
   "codemirror_mode": {
    "name": "ipython",
    "version": 3
   },
   "file_extension": ".py",
   "mimetype": "text/x-python",
   "name": "python",
   "nbconvert_exporter": "python",
   "pygments_lexer": "ipython3",
   "version": "3.8.12"
  },
  "orig_nbformat": 4,
  "vscode": {
   "interpreter": {
    "hash": "e4e8ee7b879dcc918bd54a713fcb0c9d24004d82ac7e0f9159c4283ae8536a7f"
   }
  }
 },
 "nbformat": 4,
 "nbformat_minor": 2
}
